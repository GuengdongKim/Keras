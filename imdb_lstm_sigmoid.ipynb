{
 "cells": [
  {
   "cell_type": "markdown",
   "metadata": {},
   "source": [
    "## 데이터셋\n",
    "\n",
    "이전에 3.4.1에서 사용한 __IMDB__ 데이터셋을 사용한다.\n",
    "\n",
    "\n",
    "[IMDB_MIP_sigmoid.ipynb](https://github.com/Nevation/Keras/blob/master/IMDB_MIP_sigmoid.ipynb)에 데이터셋에 대한 설명이 있다."
   ]
  },
  {
   "cell_type": "code",
   "execution_count": 1,
   "metadata": {},
   "outputs": [
    {
     "name": "stderr",
     "output_type": "stream",
     "text": [
      "Using TensorFlow backend.\n"
     ]
    }
   ],
   "source": [
    "from keras.datasets import imdb\n",
    "(x_train, y_train), (x_test, y_test) = imdb.load_data(num_words=20000)"
   ]
  },
  {
   "cell_type": "markdown",
   "metadata": {},
   "source": [
    "num_words=20000은 20,000번째까지 사용 빈도수가 높은 단어의 데이터셋을 가져오는 인자이다."
   ]
  },
  {
   "cell_type": "code",
   "execution_count": 2,
   "metadata": {},
   "outputs": [],
   "source": [
    "x_val = x_train[20000:]\n",
    "y_val = y_train[20000:]\n",
    "x_train = x_train[:20000]\n",
    "y_train = y_train[:20000]"
   ]
  },
  {
   "cell_type": "markdown",
   "metadata": {},
   "source": [
    "훈련셋과 검증셋을 분류하는 작업이다."
   ]
  },
  {
   "cell_type": "code",
   "execution_count": 3,
   "metadata": {},
   "outputs": [],
   "source": [
    "from keras.preprocessing import sequence\n",
    "\n",
    "x_train = sequence.pad_sequences(x_train, maxlen=200)\n",
    "x_val = sequence.pad_sequences(x_val, maxlen=200)\n",
    "x_test = sequence.pad_sequences(x_test, maxlen=200)"
   ]
  },
  {
   "cell_type": "markdown",
   "metadata": {},
   "source": [
    "Data들의 길이를 맞춰주기 위해 Dataset을 전처리를 한다.\n",
    "\n",
    "여기서 maxlen을 200으로 설정했기 때문에, 만약 Data의 길이 (문장의 길이)가 200이 안된다면, 200까지 0으로 채우고 반대로 200을 넘길 경우 자르는 작업을 한다."
   ]
  },
  {
   "cell_type": "code",
   "execution_count": 7,
   "metadata": {},
   "outputs": [],
   "source": [
    "from keras import models\n",
    "from keras import layers\n",
    "\n",
    "model = models.Sequential()\n",
    "model.add(layers.Embedding(20000, 128))\n",
    "model.add(layers.LSTM(128))\n",
    "model.add(layers.Dense(1, activation='sigmoid'))"
   ]
  },
  {
   "cell_type": "markdown",
   "metadata": {},
   "source": [
    "모델을 설정하는 작업이다.\n",
    "\n",
    "모델에 관련된 패키지를 import를 한 뒤, model이라는 변수에 모델을 초기화한다.\n",
    "\n",
    "이후 LSTM모델로 세팅을 해준다.\n",
    "\n",
    "\n",
    "1. LSTM(units, activation='tanh', recurrent_activation='hard_sigmoid', use_bias=True, kernel_initializer='glorot_uniform', recurrent_initializer='orthogonal', bias_initializer='zeros', unit_forget_bias=True, kernel_regularizer=None, recurrent_regularizer=None, bias_regularizer=None, activity_regularizer=None, kernel_constraint=None, recurrent_constraint=None, bias_constraint=None, dropout=0.0, recurrent_dropout=0.0, implementation=1, return_sequences=False, return_state=False, go_backwards=False, stateful=False, unroll=False)\n",
    "    * 여기선 units만 사용했다.\n",
    "    * __units__는 차원을 의미한다. 따라서 Embedding에서 인코딩된 128을 받게 된다.\n",
    "    "
   ]
  },
  {
   "cell_type": "code",
   "execution_count": 8,
   "metadata": {},
   "outputs": [
    {
     "name": "stdout",
     "output_type": "stream",
     "text": [
      "_________________________________________________________________\n",
      "Layer (type)                 Output Shape              Param #   \n",
      "=================================================================\n",
      "embedding_2 (Embedding)      (None, None, 128)         2560000   \n",
      "_________________________________________________________________\n",
      "lstm_2 (LSTM)                (None, 128)               131584    \n",
      "_________________________________________________________________\n",
      "dense_2 (Dense)              (None, 1)                 129       \n",
      "=================================================================\n",
      "Total params: 2,691,713\n",
      "Trainable params: 2,691,713\n",
      "Non-trainable params: 0\n",
      "_________________________________________________________________\n"
     ]
    }
   ],
   "source": [
    "model.summary()"
   ]
  },
  {
   "cell_type": "markdown",
   "metadata": {},
   "source": [
    "이제 만든 모델에 대한 요약이다.\n",
    "\n",
    "왼쪽에는 사용한 __Layer__, 중간에는 반환된 __Shpae__이 나오게 된다."
   ]
  },
  {
   "cell_type": "code",
   "execution_count": 9,
   "metadata": {},
   "outputs": [],
   "source": [
    "model.compile(loss='binary_crossentropy', optimizer='adam', metrics=['accuracy'])"
   ]
  },
  {
   "cell_type": "markdown",
   "metadata": {},
   "source": [
    "컴파일 설정을 해주는 함수이다.\n",
    "\n",
    "__binary_crossentropy__: 두개의 클래스중에서 예측할때 사용하는 함수 (교차 엔트로피)\n",
    "\n",
    "\n",
    "__adam__: Momentum과 RMSprop를 합친 경사 하강법 \n",
    "\n",
    "\n",
    "\n",
    "__accuracy__:  다중클래스분류 문제에서 평가기준을 ‘accuracy’로 지정했을 경우 내부적으로 categorical_accuracy() 함수를 이용하여 정확도가 계산."
   ]
  },
  {
   "cell_type": "code",
   "execution_count": 11,
   "metadata": {
    "scrolled": true
   },
   "outputs": [
    {
     "name": "stdout",
     "output_type": "stream",
     "text": [
      "Train on 20000 samples, validate on 5000 samples\n",
      "Epoch 1/25\n",
      "20000/20000 [==============================] - 139s 7ms/step - loss: 0.3728 - acc: 0.8406 - val_loss: 0.3298 - val_acc: 0.8620\n",
      "Epoch 2/25\n",
      "20000/20000 [==============================] - 139s 7ms/step - loss: 0.2132 - acc: 0.9189 - val_loss: 0.3674 - val_acc: 0.8712\n",
      "Epoch 3/25\n",
      "20000/20000 [==============================] - 145s 7ms/step - loss: 0.1349 - acc: 0.9533 - val_loss: 0.3783 - val_acc: 0.8662\n",
      "Epoch 4/25\n",
      "20000/20000 [==============================] - 144s 7ms/step - loss: 0.0897 - acc: 0.9692 - val_loss: 0.4303 - val_acc: 0.8320\n",
      "Epoch 5/25\n",
      "20000/20000 [==============================] - 149s 7ms/step - loss: 0.0662 - acc: 0.9775 - val_loss: 0.4983 - val_acc: 0.8480\n",
      "Epoch 6/25\n",
      "20000/20000 [==============================] - 145s 7ms/step - loss: 0.0363 - acc: 0.9890 - val_loss: 0.5537 - val_acc: 0.8524\n",
      "Epoch 7/25\n",
      "20000/20000 [==============================] - 148s 7ms/step - loss: 0.0521 - acc: 0.9832 - val_loss: 0.6032 - val_acc: 0.8528\n",
      "Epoch 8/25\n",
      "20000/20000 [==============================] - 161s 8ms/step - loss: 0.0779 - acc: 0.9745 - val_loss: 0.5266 - val_acc: 0.8434\n",
      "Epoch 9/25\n",
      "20000/20000 [==============================] - 184s 9ms/step - loss: 0.0457 - acc: 0.9854 - val_loss: 0.6295 - val_acc: 0.8606\n",
      "Epoch 10/25\n",
      "20000/20000 [==============================] - 186s 9ms/step - loss: 0.0171 - acc: 0.9954 - val_loss: 0.7232 - val_acc: 0.8578\n",
      "Epoch 11/25\n",
      "20000/20000 [==============================] - 189s 9ms/step - loss: 0.0152 - acc: 0.9958 - val_loss: 0.7089 - val_acc: 0.8472\n",
      "Epoch 12/25\n",
      "20000/20000 [==============================] - 188s 9ms/step - loss: 0.0136 - acc: 0.9963 - val_loss: 0.7823 - val_acc: 0.8474\n",
      "Epoch 13/25\n",
      "20000/20000 [==============================] - 189s 9ms/step - loss: 0.0044 - acc: 0.9990 - val_loss: 0.8580 - val_acc: 0.8472\n",
      "Epoch 14/25\n",
      "20000/20000 [==============================] - 189s 9ms/step - loss: 0.0041 - acc: 0.9992 - val_loss: 0.8602 - val_acc: 0.8572\n",
      "Epoch 15/25\n",
      "20000/20000 [==============================] - 189s 9ms/step - loss: 0.0175 - acc: 0.9947 - val_loss: 0.7853 - val_acc: 0.8480\n",
      "Epoch 16/25\n",
      "20000/20000 [==============================] - 188s 9ms/step - loss: 0.0219 - acc: 0.9931 - val_loss: 0.7307 - val_acc: 0.8526\n",
      "Epoch 17/25\n",
      "20000/20000 [==============================] - 189s 9ms/step - loss: 0.0122 - acc: 0.9968 - val_loss: 0.7849 - val_acc: 0.8336\n",
      "Epoch 18/25\n",
      "20000/20000 [==============================] - 189s 9ms/step - loss: 0.0158 - acc: 0.9950 - val_loss: 0.9327 - val_acc: 0.8302\n",
      "Epoch 19/25\n",
      "20000/20000 [==============================] - 184s 9ms/step - loss: 0.0080 - acc: 0.9978 - val_loss: 0.8949 - val_acc: 0.8518\n",
      "Epoch 20/25\n",
      "20000/20000 [==============================] - 179s 9ms/step - loss: 0.0133 - acc: 0.9960 - val_loss: 0.8679 - val_acc: 0.8514\n",
      "Epoch 21/25\n",
      "20000/20000 [==============================] - 181s 9ms/step - loss: 0.0047 - acc: 0.9985 - val_loss: 0.8600 - val_acc: 0.8408\n",
      "Epoch 22/25\n",
      "20000/20000 [==============================] - 183s 9ms/step - loss: 0.0092 - acc: 0.9970 - val_loss: 0.8331 - val_acc: 0.8460\n",
      "Epoch 23/25\n",
      "20000/20000 [==============================] - 184s 9ms/step - loss: 0.0048 - acc: 0.9988 - val_loss: 0.9204 - val_acc: 0.8486\n",
      "Epoch 24/25\n",
      "20000/20000 [==============================] - 185s 9ms/step - loss: 0.0030 - acc: 0.9992 - val_loss: 0.9643 - val_acc: 0.8410\n",
      "Epoch 25/25\n",
      "20000/20000 [==============================] - 187s 9ms/step - loss: 0.0015 - acc: 0.9997 - val_loss: 1.0199 - val_acc: 0.8538\n"
     ]
    }
   ],
   "source": [
    "hist = model.fit(x_train, y_train, epochs=25, batch_size=64, validation_data=(x_val, y_val))"
   ]
  },
  {
   "cell_type": "code",
   "execution_count": 12,
   "metadata": {},
   "outputs": [
    {
     "data": {
      "image/png": "[encoded data removed]",
      "text/plain": [
       "<Figure size 432x288 with 2 Axes>"
      ]
     },
     "metadata": {
      "needs_background": "light"
     },
     "output_type": "display_data"
    }
   ],
   "source": [
    "%matplotlib inline\n",
    "import matplotlib.pyplot as plt\n",
    "\n",
    "fig, loss_ax = plt.subplots()\n",
    "\n",
    "acc_ax = loss_ax.twinx()\n",
    "\n",
    "loss_ax.plot(hist.history['loss'], 'y', label='train loss')\n",
    "loss_ax.plot(hist.history['val_loss'], 'r', label='val loss')\n",
    "loss_ax.set_ylim([-0.2, 1.2])\n",
    "\n",
    "acc_ax.plot(hist.history['acc'], 'b', label='train acc')\n",
    "acc_ax.plot(hist.history['val_acc'], 'g', label='val acc')\n",
    "acc_ax.set_ylim([-0.2, 1.2])\n",
    "\n",
    "loss_ax.set_xlabel('epoch')\n",
    "loss_ax.set_ylabel('loss')\n",
    "acc_ax.set_ylabel('accuray')\n",
    "\n",
    "loss_ax.legend(loc='upper left')\n",
    "acc_ax.legend(loc='lower left')\n",
    "\n",
    "plt.show()"
   ]
  },
  {
   "cell_type": "code",
   "execution_count": 13,
   "metadata": {},
   "outputs": [
    {
     "name": "stdout",
     "output_type": "stream",
     "text": [
      "25000/25000 [==============================] - 28s 1ms/step\n",
      "## evaluation loss and_metrics ##\n",
      "[1.1029088006401062, 0.8443199999809265]\n"
     ]
    }
   ],
   "source": [
    "loss_and_metrics = model.evaluate(x_test, y_test, batch_size=64)\n",
    "print('## evaluation loss and_metrics ##')\n",
    "print(loss_and_metrics)"
   ]
  },
  {
   "cell_type": "markdown",
   "metadata": {},
   "source": [
    "## 결론\n",
    "\n",
    "- __정확도: 84.43%__\n",
    "- __손실률: 110.29%__\n",
    "\n",
    "\n",
    "훈련 손실률은 초반에 큰폭 감소하다가 작은 폭으로 감소하는 모습을 보여주는 반면, 실제 테스트 손실률 는 계속 증가하는 모습을 보여주고 있다.\n"
   ]
  },
  {
   "cell_type": "code",
   "execution_count": null,
   "metadata": {},
   "outputs": [],
   "source": []
  }
 ],
 "metadata": {
  "kernelspec": {
   "display_name": "Python 3",
   "language": "python",
   "name": "python3"
  },
  "language_info": {
   "codemirror_mode": {
    "name": "ipython",
    "version": 3
   },
   "file_extension": ".py",
   "mimetype": "text/x-python",
   "name": "python",
   "nbconvert_exporter": "python",
   "pygments_lexer": "ipython3",
   "version": "3.7.3"
  }
 },
 "nbformat": 4,
 "nbformat_minor": 2
}
