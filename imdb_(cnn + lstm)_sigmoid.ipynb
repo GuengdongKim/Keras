{
 "cells": [
  {
   "cell_type": "markdown",
   "metadata": {},
   "source": [
    "## 데이터셋\n",
    "\n",
    "이전에 3.4.1에서 사용한 __IMDB__ 데이터셋을 사용한다.\n",
    "\n",
    "\n",
    "[IMDB_MIP_sigmoid.ipynb](https://github.com/Nevation/Keras/blob/master/IMDB_MIP_sigmoid.ipynb)에 데이터셋에 대한 설명이 있다."
   ]
  },
  {
   "cell_type": "code",
   "execution_count": 1,
   "metadata": {},
   "outputs": [
    {
     "name": "stderr",
     "output_type": "stream",
     "text": [
      "Using TensorFlow backend.\n"
     ]
    }
   ],
   "source": [
    "from keras.datasets import imdb\n",
    "(x_train, y_train), (x_test, y_test) = imdb.load_data(num_words=20000)"
   ]
  },
  {
   "cell_type": "markdown",
   "metadata": {},
   "source": [
    "num_words=20000은 20,000번째까지 사용 빈도수가 높은 단어의 데이터셋을 가져오는 인자이다."
   ]
  },
  {
   "cell_type": "code",
   "execution_count": 2,
   "metadata": {},
   "outputs": [],
   "source": [
    "x_val = x_train[20000:]\n",
    "y_val = y_train[20000:]\n",
    "x_train = x_train[:20000]\n",
    "y_train = y_train[:20000]"
   ]
  },
  {
   "cell_type": "markdown",
   "metadata": {},
   "source": [
    "훈련셋과 검증셋을 분류하는 작업이다."
   ]
  },
  {
   "cell_type": "code",
   "execution_count": 3,
   "metadata": {},
   "outputs": [],
   "source": [
    "from keras.preprocessing import sequence\n",
    "\n",
    "x_train = sequence.pad_sequences(x_train, maxlen=200)\n",
    "x_val = sequence.pad_sequences(x_val, maxlen=200)\n",
    "x_test = sequence.pad_sequences(x_test, maxlen=200)"
   ]
  },
  {
   "cell_type": "markdown",
   "metadata": {},
   "source": [
    "Data들의 길이를 맞춰주기 위해 Dataset을 전처리를 한다.\n",
    "\n",
    "여기서 maxlen을 200으로 설정했기 때문에, 만약 Data의 길이 (문장의 길이)가 200이 안된다면, 200까지 0으로 채우고 반대로 200을 넘길 경우 자르는 작업을 한다.\n"
   ]
  },
  {
   "cell_type": "code",
   "execution_count": 11,
   "metadata": {},
   "outputs": [],
   "source": [
    "from keras import models\n",
    "from keras import layers\n",
    "\n",
    "model = models.Sequential()\n",
    "model.add(layers.Embedding(20000, 128, input_length=200))\n",
    "model.add(layers.Dropout(0.2))\n",
    "model.add(layers.Conv1D(256,\n",
    "                 3,\n",
    "                 padding='valid',\n",
    "                 activation='relu',\n",
    "                 strides=1))\n",
    "model.add(layers.MaxPooling1D(pool_size=4))\n",
    "model.add(layers.LSTM(128))\n",
    "model.add(layers.Dense(1, activation='sigmoid'))"
   ]
  },
  {
   "cell_type": "markdown",
   "metadata": {},
   "source": [
    "모델을 설정하는 작업이다.\n",
    "\n",
    "모델에 관련된 패키지를 import를 한 뒤, model이라는 변수에 모델을 초기화한다.\n",
    "\n",
    "이후 CNN모델과 LSTM 모델을 합친 CNN+LSTM모델로 세팅을 해준다.\n",
    "\n",
    "1. Embedding(input_dim, output_dim, embeddings_initializer='uniform', embeddings_regularizer=None, activity_regularizer=None, embeddings_constraint=None, mask_zero=False, input_length=None)\n",
    "    * 여기서 인자로 input_dim, output_dim, input_length을 사용했다.\n",
    "    * __input_dim__은 데이터의 종류의 개수이며, 20,000을 대입했으니 20,000개의 데이터의 종류가 있다는 의미이다.\n",
    "    * __output_dim__은 데이터를 인코딩 한 뒤에 나오는 벡터의 크기이다. 따라서 128을 대입했으니 128차원의 벡터로 반환하게 된다. (ex. [0, 0, 0, .. ,0 ,0] len이 128인 배열과 비슷하다.)\n",
    "    * __input_length__는 데이터의 길이를 나타내게 된다. 여기서는 문장을 sequence를 이용해 200으로 세팅을 했으니 200을 대입하게 된다.\n",
    "    \n",
    "    \n",
    "2. Dropout(rate, noise_shape=None, seed=None)\n",
    "    * 인자로 rate을 대입해주었다.\n",
    "    * 이 함수는 __과대적합__을 방지하기 위해 사용된다고 한다.\n",
    "    * __rate__는 과대적합을 방지하기 위해 임의의 입력 뉴런 얼마나 drop하려고 하는지에 대한 인자이다. \n",
    "    * 여기서는 0.2를 넣었으니 20%정도 drop한다고 생각하면 된다.\n",
    "    \n",
    "\n",
    "3. Conv1D(filters, kernel_size, strides=1, padding='valid', data_format='channels_last', dilation_rate=1, activation=None, use_bias=True, kernel_initializer='glorot_uniform', bias_initializer='zeros', kernel_regularizer=None, bias_regularizer=None, activity_regularizer=None, kernel_constraint=None, bias_constraint=None)\n",
    "    * 여기서 인자로 filters, kernel_size, padding, activation, strides를 사용했다.\n",
    "    * __filter__는 들어노는 차원수를 의미하는데, 256를 대입하는 이유는 Embedding에서 256차원으로 반환(이부분 정보 부족.. 모르겠음)을 하기 때문이다.\n",
    "    * 나머지는 찾았지만, 의미를 이해하기 어려워서 번역하지 않고 추가해서 남기려고 한다.\n",
    "    * __kernel_size__: An integer or tuple/list of a single integer, specifying the length of the 1D convolution window.\n",
    "    * __padding__: One of \"valid\", \"causal\" or \"same\" (case-insensitive).  \"valid\" means \"no padding\".  \"same\" results in padding the input such that the output has the same length as the original input. \n",
    "    * __activation__: Activation function to use (see activations). If you don't specify anything, no activation is applied\n",
    "    * __strides__: An integer or tuple/list of 2 integers, specifying the strides of the convolution along the height and width. Can be a single integer to specify the same value for all spatial dimensions. Specifying any stride value != 1 is incompatible with specifying any dilation_rate value != 1.\n",
    "    \n",
    "    \n",
    "4. LSTM(units, activation='tanh', recurrent_activation='hard_sigmoid', use_bias=True, kernel_initializer='glorot_uniform', recurrent_initializer='orthogonal', bias_initializer='zeros', unit_forget_bias=True, kernel_regularizer=None, recurrent_regularizer=None, bias_regularizer=None, activity_regularizer=None, kernel_constraint=None, recurrent_constraint=None, bias_constraint=None, dropout=0.0, recurrent_dropout=0.0, implementation=1, return_sequences=False, return_state=False, go_backwards=False, stateful=False, unroll=False)\n",
    "    * 여기선 units만 사용했다.\n",
    "    * __units__는 차원을 의미한다. 따라서 Embedding에서 인코딩된 128을 받게 된다.\n",
    "    "
   ]
  },
  {
   "cell_type": "code",
   "execution_count": 12,
   "metadata": {},
   "outputs": [
    {
     "name": "stdout",
     "output_type": "stream",
     "text": [
      "_________________________________________________________________\n",
      "Layer (type)                 Output Shape              Param #   \n",
      "=================================================================\n",
      "embedding_2 (Embedding)      (None, 200, 128)          2560000   \n",
      "_________________________________________________________________\n",
      "dropout_2 (Dropout)          (None, 200, 128)          0         \n",
      "_________________________________________________________________\n",
      "conv1d_2 (Conv1D)            (None, 198, 256)          98560     \n",
      "_________________________________________________________________\n",
      "max_pooling1d_2 (MaxPooling1 (None, 49, 256)           0         \n",
      "_________________________________________________________________\n",
      "lstm_2 (LSTM)                (None, 128)               197120    \n",
      "_________________________________________________________________\n",
      "dense_2 (Dense)              (None, 1)                 129       \n",
      "=================================================================\n",
      "Total params: 2,855,809\n",
      "Trainable params: 2,855,809\n",
      "Non-trainable params: 0\n",
      "_________________________________________________________________\n"
     ]
    }
   ],
   "source": [
    "model.summary()"
   ]
  },
  {
   "cell_type": "markdown",
   "metadata": {},
   "source": [
    "이제 만든 모델에 대한 요약이다.\n",
    "\n",
    "왼쪽에는 사용한 __Layer__, 중간에는 반환된 __Shpae__이 나오게 된다."
   ]
  },
  {
   "cell_type": "code",
   "execution_count": 10,
   "metadata": {},
   "outputs": [],
   "source": [
    "model.compile(loss='binary_crossentropy', optimizer='adam', metrics=['accuracy'])"
   ]
  },
  {
   "cell_type": "markdown",
   "metadata": {},
   "source": [
    "컴파일 설정을 해주는 함수이다.\n",
    "\n",
    "__binary_crossentropy__: 두개의 클래스중에서 예측할때 사용하는 함수 (교차 엔트로피)\n",
    "\n",
    "\n",
    "__adam__: Momentum과 RMSprop를 합친 경사 하강법 \n",
    "\n",
    "\n",
    "\n",
    "__accuracy__:  다중클래스분류 문제에서 평가기준을 ‘accuracy’로 지정했을 경우 내부적으로 categorical_accuracy() 함수를 이용하여 정확도가 계산."
   ]
  },
  {
   "cell_type": "code",
   "execution_count": 7,
   "metadata": {},
   "outputs": [
    {
     "name": "stdout",
     "output_type": "stream",
     "text": [
      "Train on 20000 samples, validate on 5000 samples\n",
      "Epoch 1/25\n",
      "20000/20000 [==============================] - 129s 6ms/step - loss: 0.4025 - acc: 0.8004 - val_loss: 0.3040 - val_acc: 0.8768\n",
      "Epoch 2/25\n",
      "20000/20000 [==============================] - 125s 6ms/step - loss: 0.1888 - acc: 0.9288 - val_loss: 0.3434 - val_acc: 0.8568\n",
      "Epoch 3/25\n",
      "20000/20000 [==============================] - 92s 5ms/step - loss: 0.0938 - acc: 0.9694 - val_loss: 0.4219 - val_acc: 0.8568\n",
      "Epoch 4/25\n",
      "20000/20000 [==============================] - 85s 4ms/step - loss: 0.0494 - acc: 0.9852 - val_loss: 0.5780 - val_acc: 0.8622\n",
      "Epoch 5/25\n",
      "20000/20000 [==============================] - 83s 4ms/step - loss: 0.0353 - acc: 0.9888 - val_loss: 0.5158 - val_acc: 0.8562\n",
      "Epoch 6/25\n",
      "20000/20000 [==============================] - 84s 4ms/step - loss: 0.0203 - acc: 0.9936 - val_loss: 0.5904 - val_acc: 0.8592\n",
      "Epoch 7/25\n",
      "20000/20000 [==============================] - 83s 4ms/step - loss: 0.0201 - acc: 0.9940 - val_loss: 0.5785 - val_acc: 0.8586\n",
      "Epoch 8/25\n",
      "20000/20000 [==============================] - 83s 4ms/step - loss: 0.0171 - acc: 0.9945 - val_loss: 0.6995 - val_acc: 0.8438\n",
      "Epoch 9/25\n",
      "20000/20000 [==============================] - 84s 4ms/step - loss: 0.0085 - acc: 0.9974 - val_loss: 0.9385 - val_acc: 0.8590\n",
      "Epoch 10/25\n",
      "20000/20000 [==============================] - 85s 4ms/step - loss: 0.0083 - acc: 0.9970 - val_loss: 0.7623 - val_acc: 0.8526\n",
      "Epoch 11/25\n",
      "20000/20000 [==============================] - 82s 4ms/step - loss: 0.0100 - acc: 0.9969 - val_loss: 0.7290 - val_acc: 0.8556\n",
      "Epoch 12/25\n",
      "20000/20000 [==============================] - 84s 4ms/step - loss: 0.0135 - acc: 0.9951 - val_loss: 0.7862 - val_acc: 0.8488\n",
      "Epoch 13/25\n",
      "20000/20000 [==============================] - 88s 4ms/step - loss: 0.0059 - acc: 0.9981 - val_loss: 0.8936 - val_acc: 0.8532\n",
      "Epoch 14/25\n",
      "20000/20000 [==============================] - 85s 4ms/step - loss: 0.0127 - acc: 0.9956 - val_loss: 0.7554 - val_acc: 0.8520\n",
      "Epoch 15/25\n",
      "20000/20000 [==============================] - 86s 4ms/step - loss: 0.0065 - acc: 0.9979 - val_loss: 0.7652 - val_acc: 0.8522\n",
      "Epoch 16/25\n",
      "20000/20000 [==============================] - 83s 4ms/step - loss: 0.0037 - acc: 0.9987 - val_loss: 0.9609 - val_acc: 0.8514\n",
      "Epoch 17/25\n",
      "20000/20000 [==============================] - 83s 4ms/step - loss: 0.0085 - acc: 0.9968 - val_loss: 0.7889 - val_acc: 0.8518\n",
      "Epoch 18/25\n",
      "20000/20000 [==============================] - 84s 4ms/step - loss: 0.0056 - acc: 0.9986 - val_loss: 0.9500 - val_acc: 0.8522\n",
      "Epoch 19/25\n",
      "20000/20000 [==============================] - 84s 4ms/step - loss: 0.0065 - acc: 0.9981 - val_loss: 0.8255 - val_acc: 0.8560\n",
      "Epoch 20/25\n",
      "20000/20000 [==============================] - 83s 4ms/step - loss: 0.0044 - acc: 0.9987 - val_loss: 0.7716 - val_acc: 0.8510\n",
      "Epoch 21/25\n",
      "20000/20000 [==============================] - 85s 4ms/step - loss: 0.0035 - acc: 0.9990 - val_loss: 0.9005 - val_acc: 0.8622\n",
      "Epoch 22/25\n",
      "20000/20000 [==============================] - 85s 4ms/step - loss: 0.0043 - acc: 0.9982 - val_loss: 0.9165 - val_acc: 0.8558\n",
      "Epoch 23/25\n",
      "20000/20000 [==============================] - 85s 4ms/step - loss: 0.0017 - acc: 0.9994 - val_loss: 0.9460 - val_acc: 0.8532\n",
      "Epoch 24/25\n",
      "20000/20000 [==============================] - 86s 4ms/step - loss: 0.0021 - acc: 0.9993 - val_loss: 0.9280 - val_acc: 0.8582\n",
      "Epoch 25/25\n",
      "20000/20000 [==============================] - 85s 4ms/step - loss: 0.0034 - acc: 0.9990 - val_loss: 0.8564 - val_acc: 0.8626\n"
     ]
    }
   ],
   "source": [
    "hist = model.fit(x_train, y_train, epochs=25, batch_size=64, validation_data=(x_val, y_val))"
   ]
  },
  {
   "cell_type": "code",
   "execution_count": 8,
   "metadata": {},
   "outputs": [
    {
     "data": {
      "image/png": "[encoded data removed]",
      "text/plain": [
       "<Figure size 432x288 with 2 Axes>"
      ]
     },
     "metadata": {
      "needs_background": "light"
     },
     "output_type": "display_data"
    }
   ],
   "source": [
    "%matplotlib inline\n",
    "import matplotlib.pyplot as plt\n",
    "\n",
    "fig, loss_ax = plt.subplots()\n",
    "\n",
    "acc_ax = loss_ax.twinx()\n",
    "\n",
    "loss_ax.plot(hist.history['loss'], 'y', label='train loss')\n",
    "loss_ax.plot(hist.history['val_loss'], 'r', label='val loss')\n",
    "loss_ax.set_ylim([-0.2, 1.2])\n",
    "\n",
    "acc_ax.plot(hist.history['acc'], 'b', label='train acc')\n",
    "acc_ax.plot(hist.history['val_acc'], 'g', label='val acc')\n",
    "acc_ax.set_ylim([-0.2, 1.2])\n",
    "\n",
    "loss_ax.set_xlabel('epoch')\n",
    "loss_ax.set_ylabel('loss')\n",
    "acc_ax.set_ylabel('accuray')\n",
    "\n",
    "loss_ax.legend(loc='upper left')\n",
    "acc_ax.legend(loc='lower left')\n",
    "\n",
    "plt.show()"
   ]
  },
  {
   "cell_type": "code",
   "execution_count": 9,
   "metadata": {},
   "outputs": [
    {
     "name": "stdout",
     "output_type": "stream",
     "text": [
      "25000/25000 [==============================] - 19s 750us/step\n",
      "## evaluation loss and_metrics ##\n",
      "[1.0223047134590149, 0.837]\n"
     ]
    }
   ],
   "source": [
    "loss_and_metrics = model.evaluate(x_test, y_test, batch_size=64)\n",
    "print('## evaluation loss and_metrics ##')\n",
    "print(loss_and_metrics)"
   ]
  },
  {
   "cell_type": "markdown",
   "metadata": {},
   "source": [
    "## 결론\n",
    "\n",
    "저번과 다르게 dropout을 이용해 과대적합을 방지하니 epoch값에 따라 정확도가 오르고 있다. \n",
    "\n"
   ]
  }
 ],
 "metadata": {
  "kernelspec": {
   "display_name": "Python 3",
   "language": "python",
   "name": "python3"
  },
  "language_info": {
   "codemirror_mode": {
    "name": "ipython",
    "version": 3
   },
   "file_extension": ".py",
   "mimetype": "text/x-python",
   "name": "python",
   "nbconvert_exporter": "python",
   "pygments_lexer": "ipython3",
   "version": "3.7.3"
  }
 },
 "nbformat": 4,
 "nbformat_minor": 2
}
