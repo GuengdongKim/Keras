{
 "cells": [
  {
   "cell_type": "markdown",
   "metadata": {},
   "source": [
    "## 데이터셋\n",
    "\n",
    "이전에 3.4.1에서 사용한 __IMDB__ 데이터셋을 사용한다.\n",
    "\n",
    "\n",
    "[IMDB_MIP_sigmoid.ipynb](https://github.com/Nevation/Keras/blob/master/IMDB_MIP_sigmoid.ipynb)에 데이터셋에 대한 설명이 있다."
   ]
  },
  {
   "cell_type": "code",
   "execution_count": 1,
   "metadata": {},
   "outputs": [
    {
     "name": "stderr",
     "output_type": "stream",
     "text": [
      "Using TensorFlow backend.\n"
     ]
    }
   ],
   "source": [
    "from keras.datasets import imdb\n",
    "(x_train, y_train), (x_test, y_test) = imdb.load_data(num_words=20000)"
   ]
  },
  {
   "cell_type": "markdown",
   "metadata": {},
   "source": [
    "num_words=20000은 20,000번째까지 사용 빈도수가 높은 단어의 데이터셋을 가져오는 인자이다."
   ]
  },
  {
   "cell_type": "code",
   "execution_count": 2,
   "metadata": {},
   "outputs": [],
   "source": [
    "x_val = x_train[20000:]\n",
    "y_val = y_train[20000:]\n",
    "x_train = x_train[:20000]\n",
    "y_train = y_train[:20000]"
   ]
  },
  {
   "cell_type": "markdown",
   "metadata": {},
   "source": [
    "훈련셋과 검증셋을 분류하는 작업이다."
   ]
  },
  {
   "cell_type": "code",
   "execution_count": 3,
   "metadata": {},
   "outputs": [],
   "source": [
    "from keras.preprocessing import sequence\n",
    "\n",
    "x_train = sequence.pad_sequences(x_train, maxlen=200)\n",
    "x_val = sequence.pad_sequences(x_val, maxlen=200)\n",
    "x_test = sequence.pad_sequences(x_test, maxlen=200)"
   ]
  },
  {
   "cell_type": "markdown",
   "metadata": {},
   "source": [
    "Data들의 길이를 맞춰주기 위해 Dataset을 전처리를 한다.\n",
    "\n",
    "여기서 maxlen을 200으로 설정했기 때문에, 만약 Data의 길이 (문장의 길이)가 200이 안된다면, 200까지 0으로 채우고 반대로 200을 넘길 경우 자르는 작업을 한다."
   ]
  },
  {
   "cell_type": "code",
   "execution_count": 2,
   "metadata": {},
   "outputs": [
    {
     "name": "stderr",
     "output_type": "stream",
     "text": [
      "Using TensorFlow backend.\n",
      "WARNING: Logging before flag parsing goes to stderr.\n",
      "W0805 15:41:10.537566 12712 deprecation_wrapper.py:119] From C:\\Users\\j2094\\Anaconda3\\lib\\site-packages\\keras\\backend\\tensorflow_backend.py:74: The name tf.get_default_graph is deprecated. Please use tf.compat.v1.get_default_graph instead.\n",
      "\n",
      "W0805 15:41:10.567550 12712 deprecation_wrapper.py:119] From C:\\Users\\j2094\\Anaconda3\\lib\\site-packages\\keras\\backend\\tensorflow_backend.py:517: The name tf.placeholder is deprecated. Please use tf.compat.v1.placeholder instead.\n",
      "\n",
      "W0805 15:41:10.570478 12712 deprecation_wrapper.py:119] From C:\\Users\\j2094\\Anaconda3\\lib\\site-packages\\keras\\backend\\tensorflow_backend.py:4138: The name tf.random_uniform is deprecated. Please use tf.random.uniform instead.\n",
      "\n",
      "W0805 15:41:10.588431 12712 deprecation_wrapper.py:119] From C:\\Users\\j2094\\Anaconda3\\lib\\site-packages\\keras\\backend\\tensorflow_backend.py:133: The name tf.placeholder_with_default is deprecated. Please use tf.compat.v1.placeholder_with_default instead.\n",
      "\n",
      "W0805 15:41:10.599400 12712 deprecation.py:506] From C:\\Users\\j2094\\Anaconda3\\lib\\site-packages\\keras\\backend\\tensorflow_backend.py:3445: calling dropout (from tensorflow.python.ops.nn_ops) with keep_prob is deprecated and will be removed in a future version.\n",
      "Instructions for updating:\n",
      "Please use `rate` instead of `keep_prob`. Rate should be set to `rate = 1 - keep_prob`.\n"
     ]
    }
   ],
   "source": [
    "from keras import models\n",
    "from keras import layers\n",
    "model = models.Sequential()\n",
    "model.add(layers.Embedding(20000, 128, input_length=200))\n",
    "model.add(layers.Dropout(0.2))\n",
    "model.add(layers.Conv1D(256,\n",
    "                 3,\n",
    "                 padding='valid',\n",
    "                 activation='relu',\n",
    "                 strides=1))\n",
    "model.add(layers.GlobalMaxPooling1D())\n",
    "model.add(layers.Dense(128, activation='relu'))\n",
    "model.add(layers.Dropout(0.2))\n",
    "model.add(layers.Dense(1, activation='sigmoid'))"
   ]
  },
  {
   "cell_type": "markdown",
   "metadata": {},
   "source": [
    "모델을 설정하는 작업이다.\n",
    "\n",
    "모델에 관련된 패키지를 import를 한 뒤, model이라는 변수에 모델을 초기화한다.\n",
    "\n",
    "이후 CNN모델로 초기화 한다.\n",
    "\n",
    "\n",
    "1. Embedding(input_dim, output_dim, embeddings_initializer='uniform', embeddings_regularizer=None, activity_regularizer=None, embeddings_constraint=None, mask_zero=False, input_length=None)\n",
    "    * 여기서 인자로 input_dim, output_dim, input_length을 사용했다.\n",
    "    * __input_dim__은 데이터의 종류의 개수이며, 20,000을 대입했으니 20,000개의 데이터의 종류가 있다는 의미이다.\n",
    "    * __output_dim__은 데이터를 인코딩 한 뒤에 나오는 벡터의 크기이다. 따라서 128을 대입했으니 128차원의 벡터로 반환하게 된다. (ex. [0, 0, 0, .. ,0 ,0] len이 128인 배열과 비슷하다.)\n",
    "    * __input_length__는 데이터의 길이를 나타내게 된다. 여기서는 문장을 sequence를 이용해 200으로 세팅을 했으니 200을 대입하게 된다.\n",
    "    \n",
    "    \n",
    "2. Dropout(rate, noise_shape=None, seed=None)\n",
    "    * 인자로 rate을 대입해주었다.\n",
    "    * 이 함수는 __과대적합__을 방지하기 위해 사용된다고 한다.\n",
    "    * __rate__는 과대적합을 방지하기 위해 임의의 입력 뉴런 얼마나 drop하려고 하는지에 대한 인자이다. \n",
    "    * 여기서는 0.2를 넣었으니 20%정도 drop한다고 생각하면 된다.\n",
    "    \n",
    "\n",
    "3. Conv1D(filters, kernel_size, strides=1, padding='valid', data_format='channels_last', dilation_rate=1, activation=None, use_bias=True, kernel_initializer='glorot_uniform', bias_initializer='zeros', kernel_regularizer=None, bias_regularizer=None, activity_regularizer=None, kernel_constraint=None, bias_constraint=None)\n",
    "    * 여기서 인자로 filters, kernel_size, padding, activation, strides를 사용했다.\n",
    "    * __filter__는 들어노는 차원수를 의미하는데, 256를 대입하는 이유는 Embedding에서 256차원으로 반환(이부분 정보 부족.. 모르겠음)을 하기 때문이다.\n",
    "    * 나머지는 찾았지만, 의미를 이해하기 어려워서 번역하지 않고 추가해서 남기려고 한다.\n",
    "    * __kernel_size__: An integer or tuple/list of a single integer, specifying the length of the 1D convolution window.\n",
    "    * __padding__: One of \"valid\", \"causal\" or \"same\" (case-insensitive).  \"valid\" means \"no padding\".  \"same\" results in padding the input such that the output has the same length as the original input. \n",
    "    * __activation__: Activation function to use (see activations). If you don't specify anything, no activation is applied\n",
    "    * __strides__: An integer or tuple/list of 2 integers, specifying the strides of the convolution along the height and width. Can be a single integer to specify the same value for all spatial dimensions. Specifying any stride value != 1 is incompatible with specifying any dilation_rate value != 1.\n",
    "    "
   ]
  },
  {
   "cell_type": "code",
   "execution_count": 3,
   "metadata": {},
   "outputs": [
    {
     "name": "stdout",
     "output_type": "stream",
     "text": [
      "_________________________________________________________________\n",
      "Layer (type)                 Output Shape              Param #   \n",
      "=================================================================\n",
      "embedding_1 (Embedding)      (None, 200, 128)          2560000   \n",
      "_________________________________________________________________\n",
      "dropout_1 (Dropout)          (None, 200, 128)          0         \n",
      "_________________________________________________________________\n",
      "conv1d_1 (Conv1D)            (None, 198, 256)          98560     \n",
      "_________________________________________________________________\n",
      "global_max_pooling1d_1 (Glob (None, 256)               0         \n",
      "_________________________________________________________________\n",
      "dense_1 (Dense)              (None, 128)               32896     \n",
      "_________________________________________________________________\n",
      "dropout_2 (Dropout)          (None, 128)               0         \n",
      "_________________________________________________________________\n",
      "dense_2 (Dense)              (None, 1)                 129       \n",
      "=================================================================\n",
      "Total params: 2,691,585\n",
      "Trainable params: 2,691,585\n",
      "Non-trainable params: 0\n",
      "_________________________________________________________________\n"
     ]
    }
   ],
   "source": [
    "model.summary()"
   ]
  },
  {
   "cell_type": "markdown",
   "metadata": {},
   "source": [
    "이제 만든 모델에 대한 요약이다.\n",
    "\n",
    "왼쪽에는 사용한 __Layer__, 중간에는 반환된 __Shpae__이 나오게 된다."
   ]
  },
  {
   "cell_type": "code",
   "execution_count": 8,
   "metadata": {},
   "outputs": [],
   "source": [
    "model.compile(loss='binary_crossentropy', optimizer='adam', metrics=['accuracy'])"
   ]
  },
  {
   "cell_type": "markdown",
   "metadata": {},
   "source": [
    "컴파일 설정을 해주는 함수이다.\n",
    "\n",
    "__binary_crossentropy__: 두개의 클래스중에서 예측할때 사용하는 함수 (교차 엔트로피)\n",
    "\n",
    "\n",
    "__adam__: Momentum과 RMSprop를 합친 경사 하강법 \n",
    "\n",
    "\n",
    "\n",
    "__accuracy__:  다중클래스분류 문제에서 평가기준을 ‘accuracy’로 지정했을 경우 내부적으로 categorical_accuracy() 함수를 이용하여 정확도가 계산."
   ]
  },
  {
   "cell_type": "code",
   "execution_count": 10,
   "metadata": {},
   "outputs": [
    {
     "name": "stdout",
     "output_type": "stream",
     "text": [
      "Train on 20000 samples, validate on 5000 samples\n",
      "Epoch 1/25\n",
      "20000/20000 [==============================] - 68s 3ms/step - loss: 0.1170 - acc: 0.9610 - val_loss: 0.2809 - val_acc: 0.8906\n",
      "Epoch 2/25\n",
      "20000/20000 [==============================] - 69s 3ms/step - loss: 0.0326 - acc: 0.9919 - val_loss: 0.3546 - val_acc: 0.8840\n",
      "Epoch 3/25\n",
      "20000/20000 [==============================] - 70s 3ms/step - loss: 0.0070 - acc: 0.9992 - val_loss: 0.4000 - val_acc: 0.8892\n",
      "Epoch 4/25\n",
      "20000/20000 [==============================] - 68s 3ms/step - loss: 0.0023 - acc: 0.9997 - val_loss: 0.4510 - val_acc: 0.8836\n",
      "Epoch 5/25\n",
      "20000/20000 [==============================] - 69s 3ms/step - loss: 0.0011 - acc: 1.0000 - val_loss: 0.4583 - val_acc: 0.8910\n",
      "Epoch 6/25\n",
      "20000/20000 [==============================] - 69s 3ms/step - loss: 6.7136e-04 - acc: 1.0000 - val_loss: 0.4832 - val_acc: 0.8892\n",
      "Epoch 7/25\n",
      "20000/20000 [==============================] - 70s 4ms/step - loss: 3.3685e-04 - acc: 1.0000 - val_loss: 0.5004 - val_acc: 0.8900\n",
      "Epoch 8/25\n",
      "20000/20000 [==============================] - 68s 3ms/step - loss: 2.4491e-04 - acc: 1.0000 - val_loss: 0.5188 - val_acc: 0.8894\n",
      "Epoch 9/25\n",
      "20000/20000 [==============================] - 69s 3ms/step - loss: 1.7253e-04 - acc: 1.0000 - val_loss: 0.5331 - val_acc: 0.8876\n",
      "Epoch 10/25\n",
      "20000/20000 [==============================] - 68s 3ms/step - loss: 1.1785e-04 - acc: 1.0000 - val_loss: 0.5474 - val_acc: 0.8884\n",
      "Epoch 11/25\n",
      "20000/20000 [==============================] - 69s 3ms/step - loss: 1.1455e-04 - acc: 1.0000 - val_loss: 0.5586 - val_acc: 0.8878\n",
      "Epoch 12/25\n",
      "20000/20000 [==============================] - 68s 3ms/step - loss: 6.9695e-05 - acc: 1.0000 - val_loss: 0.5722 - val_acc: 0.8884\n",
      "Epoch 13/25\n",
      "20000/20000 [==============================] - 72s 4ms/step - loss: 1.1986e-04 - acc: 1.0000 - val_loss: 0.5981 - val_acc: 0.8870\n",
      "Epoch 14/25\n",
      "20000/20000 [==============================] - 70s 3ms/step - loss: 1.3757e-04 - acc: 1.0000 - val_loss: 0.6155 - val_acc: 0.8890\n",
      "Epoch 15/25\n",
      "20000/20000 [==============================] - 69s 3ms/step - loss: 0.0025 - acc: 0.9990 - val_loss: 0.6373 - val_acc: 0.8758\n",
      "Epoch 16/25\n",
      "20000/20000 [==============================] - 68s 3ms/step - loss: 0.0478 - acc: 0.9829 - val_loss: 0.4957 - val_acc: 0.8740\n",
      "Epoch 17/25\n",
      "20000/20000 [==============================] - 68s 3ms/step - loss: 0.0132 - acc: 0.9954 - val_loss: 0.5781 - val_acc: 0.8784\n",
      "Epoch 18/25\n",
      "20000/20000 [==============================] - 72s 4ms/step - loss: 0.0027 - acc: 0.9991 - val_loss: 0.6315 - val_acc: 0.8810\n",
      "Epoch 19/25\n",
      "20000/20000 [==============================] - 71s 4ms/step - loss: 0.0020 - acc: 0.9995 - val_loss: 0.6890 - val_acc: 0.8766\n",
      "Epoch 20/25\n",
      "20000/20000 [==============================] - 72s 4ms/step - loss: 5.2732e-04 - acc: 0.9999 - val_loss: 0.7337 - val_acc: 0.8754\n",
      "Epoch 21/25\n",
      "20000/20000 [==============================] - 69s 3ms/step - loss: 3.3775e-04 - acc: 1.0000 - val_loss: 0.6899 - val_acc: 0.8818\n",
      "Epoch 22/25\n",
      "20000/20000 [==============================] - 74s 4ms/step - loss: 0.0026 - acc: 0.9990 - val_loss: 0.7272 - val_acc: 0.8808\n",
      "Epoch 23/25\n",
      "20000/20000 [==============================] - 68s 3ms/step - loss: 7.9731e-04 - acc: 0.9999 - val_loss: 0.7586 - val_acc: 0.8836\n",
      "Epoch 24/25\n",
      "20000/20000 [==============================] - 68s 3ms/step - loss: 0.0023 - acc: 0.9991 - val_loss: 0.8155 - val_acc: 0.8726\n",
      "Epoch 25/25\n",
      "20000/20000 [==============================] - 69s 3ms/step - loss: 0.0086 - acc: 0.9970 - val_loss: 0.8654 - val_acc: 0.8732\n"
     ]
    }
   ],
   "source": [
    "hist = model.fit(x_train, y_train, epochs=25, batch_size=64, validation_data=(x_val, y_val))"
   ]
  },
  {
   "cell_type": "code",
   "execution_count": 11,
   "metadata": {},
   "outputs": [
    {
     "data": {
      "image/png": "[encoded data removed]",
      "text/plain": [
       "<Figure size 432x288 with 2 Axes>"
      ]
     },
     "metadata": {
      "needs_background": "light"
     },
     "output_type": "display_data"
    }
   ],
   "source": [
    "%matplotlib inline\n",
    "import matplotlib.pyplot as plt\n",
    "\n",
    "fig, loss_ax = plt.subplots()\n",
    "\n",
    "acc_ax = loss_ax.twinx()\n",
    "\n",
    "loss_ax.plot(hist.history['loss'], 'y', label='train loss')\n",
    "loss_ax.plot(hist.history['val_loss'], 'r', label='val loss')\n",
    "loss_ax.set_ylim([-0.2, 1.2])\n",
    "\n",
    "acc_ax.plot(hist.history['acc'], 'b', label='train acc')\n",
    "acc_ax.plot(hist.history['val_acc'], 'g', label='val acc')\n",
    "acc_ax.set_ylim([-0.2, 1.2])\n",
    "\n",
    "loss_ax.set_xlabel('epoch')\n",
    "loss_ax.set_ylabel('loss')\n",
    "acc_ax.set_ylabel('accuray')\n",
    "\n",
    "loss_ax.legend(loc='upper left')\n",
    "acc_ax.legend(loc='lower left')\n",
    "\n",
    "plt.show()\n"
   ]
  },
  {
   "cell_type": "code",
   "execution_count": 12,
   "metadata": {},
   "outputs": [
    {
     "name": "stdout",
     "output_type": "stream",
     "text": [
      "25000/25000 [==============================] - 12s 484us/step\n",
      "## evaluation loss and_metrics ##\n",
      "[0.9243427164077759, 0.8646799999809265]\n"
     ]
    }
   ],
   "source": [
    "loss_and_metrics = model.evaluate(x_test, y_test, batch_size=64)\n",
    "print('## evaluation loss and_metrics ##')\n",
    "print(loss_and_metrics)"
   ]
  },
  {
   "cell_type": "markdown",
   "metadata": {},
   "source": [
    "## 결론\n",
    "\n",
    "- __정확도: 86.47%__\n",
    "- __손실률: 92.43%__\n",
    "\n",
    "\n",
    "훈련 손실률은 초반에 감소하다가 유지하는 모습을 보여주는 반면, 실제는 계속 증가하는 모습을 보여주고 있다.\n",
    "\n",
    "\n",
    "또한 다른 알고리즘에 비해 훈련 정확도와 테스트 정확도의 차이가 작다.\n",
    "우연일 수 도 있지만 유일하게 처음 정확도가 훈련 정확도보다 실제 정확도가 높다\n"
   ]
  },
  {
   "cell_type": "code",
   "execution_count": null,
   "metadata": {},
   "outputs": [],
   "source": []
  }
 ],
 "metadata": {
  "kernelspec": {
   "display_name": "Python 3",
   "language": "python",
   "name": "python3"
  },
  "language_info": {
   "codemirror_mode": {
    "name": "ipython",
    "version": 3
   },
   "file_extension": ".py",
   "mimetype": "text/x-python",
   "name": "python",
   "nbconvert_exporter": "python",
   "pygments_lexer": "ipython3",
   "version": "3.7.3"
  }
 },
 "nbformat": 4,
 "nbformat_minor": 2
}
